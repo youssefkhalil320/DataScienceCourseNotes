{
  "nbformat": 4,
  "nbformat_minor": 0,
  "metadata": {
    "colab": {
      "provenance": []
    },
    "kernelspec": {
      "name": "python3",
      "display_name": "Python 3"
    },
    "language_info": {
      "name": "python"
    }
  },
  "cells": [
    {
      "cell_type": "markdown",
      "source": [
        "# **What is Numpy?**"
      ],
      "metadata": {
        "id": "No64pd52v6hK"
      }
    },
    {
      "cell_type": "markdown",
      "source": [
        "NumPy is a powerful library for scientific computing in Python. It allows you to work with large arrays and matrices of numerical data, and provides a variety of mathematical operations to perform on them. In this tutorial, we will cover some of the basics of using NumPy."
      ],
      "metadata": {
        "id": "jYXhurRuwBSP"
      }
    },
    {
      "cell_type": "markdown",
      "source": [
        "# **Installation**\n",
        "NumPy can be installed using pip, the Python package manager:"
      ],
      "metadata": {
        "id": "KmNLV6QGwGxy"
      }
    },
    {
      "cell_type": "code",
      "execution_count": 1,
      "metadata": {
        "colab": {
          "base_uri": "https://localhost:8080/"
        },
        "id": "iM-AT7pevflV",
        "outputId": "2ff3751a-a075-4f82-e7d8-f7dece928693"
      },
      "outputs": [
        {
          "output_type": "stream",
          "name": "stdout",
          "text": [
            "Looking in indexes: https://pypi.org/simple, https://us-python.pkg.dev/colab-wheels/public/simple/\n",
            "Requirement already satisfied: numpy in /usr/local/lib/python3.8/dist-packages (1.22.4)\n"
          ]
        }
      ],
      "source": [
        "pip install numpy"
      ]
    },
    {
      "cell_type": "markdown",
      "source": [
        "# **Importing NumPy**\n",
        "Once NumPy is installed, you can import it into your Python program using the import statement:"
      ],
      "metadata": {
        "id": "Ii9HGj3OwPLT"
      }
    },
    {
      "cell_type": "code",
      "source": [
        "import numpy as np\n"
      ],
      "metadata": {
        "id": "BUh2jII7wLs2"
      },
      "execution_count": 2,
      "outputs": []
    },
    {
      "cell_type": "markdown",
      "source": [
        "# **Creating Arrays**\n",
        "The basic data structure in NumPy is the array. An array is a collection of elements of the same type, arranged in a grid of rows and columns. You can create an array in NumPy using the array function:"
      ],
      "metadata": {
        "id": "SKv7RZ1hwYdT"
      }
    },
    {
      "cell_type": "code",
      "source": [
        "import numpy as np\n",
        "\n",
        "a = np.array([1, 2, 3])\n",
        "print(a)\n"
      ],
      "metadata": {
        "colab": {
          "base_uri": "https://localhost:8080/"
        },
        "id": "BkFkevi6wTz-",
        "outputId": "b8966f1c-f4dc-4764-fd29-8e6ec9e6e145"
      },
      "execution_count": 3,
      "outputs": [
        {
          "output_type": "stream",
          "name": "stdout",
          "text": [
            "[1 2 3]\n"
          ]
        }
      ]
    },
    {
      "cell_type": "code",
      "source": [
        "#Multidimensional\n",
        "import numpy as np\n",
        "\n",
        "b = np.array([[1, 2, 3], [4, 5, 6]])\n",
        "print(b)\n"
      ],
      "metadata": {
        "colab": {
          "base_uri": "https://localhost:8080/"
        },
        "id": "HJyjBT9ewbys",
        "outputId": "66f4bfcf-69d1-4bde-ebac-32ba40c36f22"
      },
      "execution_count": 6,
      "outputs": [
        {
          "output_type": "stream",
          "name": "stdout",
          "text": [
            "[[1 2 3]\n",
            " [4 5 6]]\n"
          ]
        }
      ]
    },
    {
      "cell_type": "markdown",
      "source": [
        "# **Array Attributes**\n",
        "NumPy arrays have several attributes that provide information about the array, such as its shape and data type.\n",
        "\n",
        "You can get the shape of an array using the shape attribute:"
      ],
      "metadata": {
        "id": "-MztMKrpwvfW"
      }
    },
    {
      "cell_type": "code",
      "source": [
        "import numpy as np\n",
        "\n",
        "a = np.array([1, 2, 3])\n",
        "print(a.shape)"
      ],
      "metadata": {
        "colab": {
          "base_uri": "https://localhost:8080/"
        },
        "id": "W-MIpalxwiwZ",
        "outputId": "9947317a-95be-4172-8b40-bf22d0bce29d"
      },
      "execution_count": 7,
      "outputs": [
        {
          "output_type": "stream",
          "name": "stdout",
          "text": [
            "(3,)\n"
          ]
        }
      ]
    },
    {
      "cell_type": "code",
      "source": [
        "b = np.array([[1, 2, 3], [4, 5, 6]])\n",
        "print(b.shape)"
      ],
      "metadata": {
        "colab": {
          "base_uri": "https://localhost:8080/"
        },
        "id": "-9ad0bC98nFi",
        "outputId": "afcbd6ae-b27b-4631-bed9-79bb5f3eaeea"
      },
      "execution_count": 53,
      "outputs": [
        {
          "output_type": "stream",
          "name": "stdout",
          "text": [
            "(2, 3)\n"
          ]
        }
      ]
    },
    {
      "cell_type": "code",
      "source": [
        "b = np.array([[1], [4],[6]])\n",
        "print(b)\n",
        "print(b.shape)"
      ],
      "metadata": {
        "colab": {
          "base_uri": "https://localhost:8080/"
        },
        "id": "nnbFSq008y1g",
        "outputId": "36ecb9ea-4bf6-45f5-d406-d3bc860d92ea"
      },
      "execution_count": 56,
      "outputs": [
        {
          "output_type": "stream",
          "name": "stdout",
          "text": [
            "[[1]\n",
            " [4]\n",
            " [6]]\n",
            "(3, 1)\n"
          ]
        }
      ]
    },
    {
      "cell_type": "code",
      "source": [
        "import numpy as np\n",
        "\n",
        "a = np.array([1, 2, 3])\n",
        "print(a.dtype)\n"
      ],
      "metadata": {
        "colab": {
          "base_uri": "https://localhost:8080/"
        },
        "id": "fQKoaKMBw0Cp",
        "outputId": "3f1b1203-08ed-4d1a-b79c-85e377fa84d5"
      },
      "execution_count": 8,
      "outputs": [
        {
          "output_type": "stream",
          "name": "stdout",
          "text": [
            "int64\n"
          ]
        }
      ]
    },
    {
      "cell_type": "markdown",
      "source": [
        "# **Array Operations**\n",
        "NumPy provides a variety of mathematical operations that can be performed on arrays. These operations can be performed element-wise, which means the operation is applied to each element of the array.\n",
        "\n",
        "For example, you can add two arrays together element-wise:"
      ],
      "metadata": {
        "id": "ITMPne37xJ0O"
      }
    },
    {
      "cell_type": "code",
      "source": [
        "import numpy as np\n",
        "\n",
        "a = np.array([1, 2, 3])\n",
        "b = np.array([4, 5, 6])\n",
        "\n",
        "c = a + b\n",
        "print(c)\n"
      ],
      "metadata": {
        "colab": {
          "base_uri": "https://localhost:8080/"
        },
        "id": "38YMQHkUw4ft",
        "outputId": "73c7508e-b8d1-47ab-a9e2-593cede4ce98"
      },
      "execution_count": 11,
      "outputs": [
        {
          "output_type": "stream",
          "name": "stdout",
          "text": [
            "[5 7 9]\n"
          ]
        }
      ]
    },
    {
      "cell_type": "code",
      "source": [
        "import numpy as np\n",
        "\n",
        "a = np.array([1, 2, 3])\n",
        "b = np.array([4, 5])\n",
        "\n",
        "c = a + b\n",
        "print(c)\n"
      ],
      "metadata": {
        "colab": {
          "base_uri": "https://localhost:8080/",
          "height": 226
        },
        "id": "97Jn78eN9g0y",
        "outputId": "e7774c05-6be7-4daa-fae7-8238b5281d04"
      },
      "execution_count": 57,
      "outputs": [
        {
          "output_type": "error",
          "ename": "ValueError",
          "evalue": "ignored",
          "traceback": [
            "\u001b[0;31m---------------------------------------------------------------------------\u001b[0m",
            "\u001b[0;31mValueError\u001b[0m                                Traceback (most recent call last)",
            "\u001b[0;32m<ipython-input-57-39d3a4861a82>\u001b[0m in \u001b[0;36m<module>\u001b[0;34m\u001b[0m\n\u001b[1;32m      4\u001b[0m \u001b[0mb\u001b[0m \u001b[0;34m=\u001b[0m \u001b[0mnp\u001b[0m\u001b[0;34m.\u001b[0m\u001b[0marray\u001b[0m\u001b[0;34m(\u001b[0m\u001b[0;34m[\u001b[0m\u001b[0;36m4\u001b[0m\u001b[0;34m,\u001b[0m \u001b[0;36m5\u001b[0m\u001b[0;34m]\u001b[0m\u001b[0;34m)\u001b[0m\u001b[0;34m\u001b[0m\u001b[0;34m\u001b[0m\u001b[0m\n\u001b[1;32m      5\u001b[0m \u001b[0;34m\u001b[0m\u001b[0m\n\u001b[0;32m----> 6\u001b[0;31m \u001b[0mc\u001b[0m \u001b[0;34m=\u001b[0m \u001b[0ma\u001b[0m \u001b[0;34m+\u001b[0m \u001b[0mb\u001b[0m\u001b[0;34m\u001b[0m\u001b[0;34m\u001b[0m\u001b[0m\n\u001b[0m\u001b[1;32m      7\u001b[0m \u001b[0mprint\u001b[0m\u001b[0;34m(\u001b[0m\u001b[0mc\u001b[0m\u001b[0;34m)\u001b[0m\u001b[0;34m\u001b[0m\u001b[0;34m\u001b[0m\u001b[0m\n",
            "\u001b[0;31mValueError\u001b[0m: operands could not be broadcast together with shapes (3,) (2,) "
          ]
        }
      ]
    },
    {
      "cell_type": "markdown",
      "source": [
        "# **Indexing and Slicing**\n",
        "You can access elements of an array using indexing and slicing. Indexing allows you to access a single element of an array, while slicing allows you to access a subset of the array.\n",
        "\n",
        "To access a single element of an array, you can use indexing:"
      ],
      "metadata": {
        "id": "4TXYHpW4xRZL"
      }
    },
    {
      "cell_type": "code",
      "source": [
        "import numpy as np\n",
        "\n",
        "a = np.array([1, 2, 3])\n",
        "print(a[0])\n"
      ],
      "metadata": {
        "colab": {
          "base_uri": "https://localhost:8080/"
        },
        "id": "G8lvtQ0Cw6WP",
        "outputId": "8e6be763-eff9-43bd-c3e1-cf159a16f889"
      },
      "execution_count": 12,
      "outputs": [
        {
          "output_type": "stream",
          "name": "stdout",
          "text": [
            "1\n"
          ]
        }
      ]
    },
    {
      "cell_type": "code",
      "source": [
        "import numpy as np\n",
        "\n",
        "a = np.array([1, 2, 3, 4, 5])\n",
        "print(a[1:4])\n"
      ],
      "metadata": {
        "colab": {
          "base_uri": "https://localhost:8080/"
        },
        "id": "yJNlphYXxVks",
        "outputId": "ba384b83-768f-4a4f-97ca-6835a2b9c53e"
      },
      "execution_count": 13,
      "outputs": [
        {
          "output_type": "stream",
          "name": "stdout",
          "text": [
            "[2 3 4]\n"
          ]
        }
      ]
    },
    {
      "cell_type": "code",
      "source": [
        "import numpy as np\n",
        "\n",
        "a = np.array([1, 2, 3, 4, 5])\n",
        "print(a[::2]) # Output: [1 3 5]"
      ],
      "metadata": {
        "colab": {
          "base_uri": "https://localhost:8080/"
        },
        "id": "cDj4rO5gyjTT",
        "outputId": "e47214c4-5a2c-4ee5-aaae-360366aab32e"
      },
      "execution_count": 22,
      "outputs": [
        {
          "output_type": "stream",
          "name": "stdout",
          "text": [
            "[1 3 5]\n"
          ]
        }
      ]
    },
    {
      "cell_type": "markdown",
      "source": [
        "# **Broadcasting**\n",
        "One of the powerful features of NumPy is broadcasting. Broadcasting allows you to perform operations on arrays of different shapes and sizes.\n",
        "\n",
        "For example, you can add a scalar to an array:"
      ],
      "metadata": {
        "id": "sy5oHVgHxd4j"
      }
    },
    {
      "cell_type": "code",
      "source": [
        "import numpy as np\n",
        "\n",
        "a = np.array([1, 2, 3])\n",
        "b = 2\n",
        "\n",
        "c = a + b\n",
        "print(c)"
      ],
      "metadata": {
        "colab": {
          "base_uri": "https://localhost:8080/"
        },
        "id": "AtytZNuNxbUP",
        "outputId": "03394821-2178-4793-d17f-3d55b561c08f"
      },
      "execution_count": 14,
      "outputs": [
        {
          "output_type": "stream",
          "name": "stdout",
          "text": [
            "[3 4 5]\n"
          ]
        }
      ]
    },
    {
      "cell_type": "code",
      "source": [
        "import numpy as np\n",
        "\n",
        "a = np.array([[1, 2, 3], [4, 5, 6]])\n",
        "b = np.array([1, 2, 3])\n",
        "\n",
        "c = a + b\n",
        "print(c)\n"
      ],
      "metadata": {
        "colab": {
          "base_uri": "https://localhost:8080/"
        },
        "id": "CAJt9LvQxp2z",
        "outputId": "879bea6e-e73a-4853-ac8c-618a0d4fea7c"
      },
      "execution_count": 15,
      "outputs": [
        {
          "output_type": "stream",
          "name": "stdout",
          "text": [
            "[[2 4 6]\n",
            " [5 7 9]]\n"
          ]
        }
      ]
    },
    {
      "cell_type": "markdown",
      "source": [
        "# **Aggregation Functions**\n",
        "NumPy provides several aggregation functions that allow you to compute summary statistics on arrays, such as the mean, median, and standard deviation.\n",
        "\n",
        "For example, you can compute the mean of an array:"
      ],
      "metadata": {
        "id": "p12HY_k0xxvN"
      }
    },
    {
      "cell_type": "code",
      "source": [
        "import numpy as np\n",
        "\n",
        "a = np.array([1, 2, 3, 4, 5])\n",
        "mean = np.mean(a)\n",
        "\n",
        "print(mean)\n"
      ],
      "metadata": {
        "colab": {
          "base_uri": "https://localhost:8080/"
        },
        "id": "sd6nZd8Qxur9",
        "outputId": "db2ef9b7-6ec7-4123-ad35-41538ab6f333"
      },
      "execution_count": 16,
      "outputs": [
        {
          "output_type": "stream",
          "name": "stdout",
          "text": [
            "3.0\n"
          ]
        }
      ]
    },
    {
      "cell_type": "code",
      "source": [
        "import numpy as np\n",
        "\n",
        "a = np.array([1, 2, 3, 4, 5])\n",
        "median = np.median(a)\n",
        "stddev = np.std(a)\n",
        "\n",
        "print(median)\n",
        "print(stddev)\n"
      ],
      "metadata": {
        "colab": {
          "base_uri": "https://localhost:8080/"
        },
        "id": "JQveocDXx1FC",
        "outputId": "2ef401ce-9961-44bf-b1ac-fc8d9ab2255e"
      },
      "execution_count": 17,
      "outputs": [
        {
          "output_type": "stream",
          "name": "stdout",
          "text": [
            "3.0\n",
            "1.4142135623730951\n"
          ]
        }
      ]
    },
    {
      "cell_type": "markdown",
      "source": [
        "# **Array Manipulation**\n",
        "NumPy provides several functions for manipulating arrays, such as reshaping, concatenating, and splitting arrays.\n",
        "\n",
        "To reshape an array, you can use the reshape function:"
      ],
      "metadata": {
        "id": "LAyzRn2jyEA4"
      }
    },
    {
      "cell_type": "code",
      "source": [
        "import numpy as np\n",
        "\n",
        "a = np.array([1, 2, 3, 4, 5, 6])\n",
        "b = a.reshape((2, 3))\n",
        "\n",
        "print(b)\n"
      ],
      "metadata": {
        "colab": {
          "base_uri": "https://localhost:8080/"
        },
        "id": "Us1P124sx5ai",
        "outputId": "95bc1921-8245-4a79-988d-d1a33fce858b"
      },
      "execution_count": 18,
      "outputs": [
        {
          "output_type": "stream",
          "name": "stdout",
          "text": [
            "[[1 2 3]\n",
            " [4 5 6]]\n"
          ]
        }
      ]
    },
    {
      "cell_type": "code",
      "source": [
        "import numpy as np\n",
        "\n",
        "a = np.array([1, 2, 3, 4, 5, 6])\n",
        "b = a.reshape((2, 4))\n",
        "\n",
        "print(b)\n"
      ],
      "metadata": {
        "colab": {
          "base_uri": "https://localhost:8080/",
          "height": 244
        },
        "id": "dH7ukrBkyInG",
        "outputId": "0f9589ec-4ca4-4ae8-9d01-ceb3f267bb2d"
      },
      "execution_count": 19,
      "outputs": [
        {
          "output_type": "error",
          "ename": "ValueError",
          "evalue": "ignored",
          "traceback": [
            "\u001b[0;31m---------------------------------------------------------------------------\u001b[0m",
            "\u001b[0;31mValueError\u001b[0m                                Traceback (most recent call last)",
            "\u001b[0;32m<ipython-input-19-5d1a0966d7e1>\u001b[0m in \u001b[0;36m<module>\u001b[0;34m\u001b[0m\n\u001b[1;32m      2\u001b[0m \u001b[0;34m\u001b[0m\u001b[0m\n\u001b[1;32m      3\u001b[0m \u001b[0ma\u001b[0m \u001b[0;34m=\u001b[0m \u001b[0mnp\u001b[0m\u001b[0;34m.\u001b[0m\u001b[0marray\u001b[0m\u001b[0;34m(\u001b[0m\u001b[0;34m[\u001b[0m\u001b[0;36m1\u001b[0m\u001b[0;34m,\u001b[0m \u001b[0;36m2\u001b[0m\u001b[0;34m,\u001b[0m \u001b[0;36m3\u001b[0m\u001b[0;34m,\u001b[0m \u001b[0;36m4\u001b[0m\u001b[0;34m,\u001b[0m \u001b[0;36m5\u001b[0m\u001b[0;34m,\u001b[0m \u001b[0;36m6\u001b[0m\u001b[0;34m]\u001b[0m\u001b[0;34m)\u001b[0m\u001b[0;34m\u001b[0m\u001b[0;34m\u001b[0m\u001b[0m\n\u001b[0;32m----> 4\u001b[0;31m \u001b[0mb\u001b[0m \u001b[0;34m=\u001b[0m \u001b[0ma\u001b[0m\u001b[0;34m.\u001b[0m\u001b[0mreshape\u001b[0m\u001b[0;34m(\u001b[0m\u001b[0;34m(\u001b[0m\u001b[0;36m2\u001b[0m\u001b[0;34m,\u001b[0m \u001b[0;36m4\u001b[0m\u001b[0;34m)\u001b[0m\u001b[0;34m)\u001b[0m\u001b[0;34m\u001b[0m\u001b[0;34m\u001b[0m\u001b[0m\n\u001b[0m\u001b[1;32m      5\u001b[0m \u001b[0;34m\u001b[0m\u001b[0m\n\u001b[1;32m      6\u001b[0m \u001b[0mprint\u001b[0m\u001b[0;34m(\u001b[0m\u001b[0mb\u001b[0m\u001b[0;34m)\u001b[0m\u001b[0;34m\u001b[0m\u001b[0;34m\u001b[0m\u001b[0m\n",
            "\u001b[0;31mValueError\u001b[0m: cannot reshape array of size 6 into shape (2,4)"
          ]
        }
      ]
    },
    {
      "cell_type": "code",
      "source": [
        "import numpy as np\n",
        "\n",
        "a = np.array([1, 2, 3])\n",
        "b = np.array([4, 5, 6])\n",
        "\n",
        "c = np.concatenate((a, b))\n",
        "\n",
        "print(c)\n"
      ],
      "metadata": {
        "colab": {
          "base_uri": "https://localhost:8080/"
        },
        "id": "hWnvMBIUyPeF",
        "outputId": "db9a5283-eb84-4429-c9e6-8b59a3e76224"
      },
      "execution_count": 20,
      "outputs": [
        {
          "output_type": "stream",
          "name": "stdout",
          "text": [
            "[1 2 3 4 5 6]\n"
          ]
        }
      ]
    },
    {
      "cell_type": "code",
      "source": [
        "import numpy as np\n",
        "\n",
        "a = np.array([1, 2, 3, 4, 5, 6])\n",
        "b, c = np.split(a, 2)\n",
        "\n",
        "print(b)\n",
        "print(c)\n"
      ],
      "metadata": {
        "colab": {
          "base_uri": "https://localhost:8080/"
        },
        "id": "WLwBjiDLyTYj",
        "outputId": "38b28472-b766-45d8-abf1-a741f6e1a4ee"
      },
      "execution_count": 21,
      "outputs": [
        {
          "output_type": "stream",
          "name": "stdout",
          "text": [
            "[1 2 3]\n",
            "[4 5 6]\n"
          ]
        }
      ]
    },
    {
      "cell_type": "markdown",
      "source": [
        "# **Advanced Indexing**\n",
        "NumPy provides a powerful mechanism called advanced indexing that allows you to select subsets of arrays based on more complex conditions than simple slicing.\n",
        "\n",
        "There are two types of advanced indexing: integer indexing and Boolean indexing.\n",
        "\n",
        "# Integer Indexing\n",
        "With integer indexing, you can select specific elements of an array by specifying their indices as a list or array of integers.\n",
        "\n",
        "For example, given an array a:"
      ],
      "metadata": {
        "id": "N3dJdrAtybKA"
      }
    },
    {
      "cell_type": "code",
      "source": [
        "import numpy as np\n",
        "\n",
        "a = np.array([[1, 2, 3], [4, 5, 6], [7, 8, 9]])\n"
      ],
      "metadata": {
        "id": "58fbZn2XyXPW"
      },
      "execution_count": 23,
      "outputs": []
    },
    {
      "cell_type": "code",
      "source": [
        "b = a[[0, 1], [1, 2]]\n",
        "print(b) \n"
      ],
      "metadata": {
        "colab": {
          "base_uri": "https://localhost:8080/"
        },
        "id": "vQCn75uC0IlX",
        "outputId": "6c02cefa-c053-4c49-a3de-ffb0aeb1b5e1"
      },
      "execution_count": 25,
      "outputs": [
        {
          "output_type": "stream",
          "name": "stdout",
          "text": [
            "[2 6]\n"
          ]
        }
      ]
    },
    {
      "cell_type": "markdown",
      "source": [
        "# **Boolean Indexing**\n",
        "With Boolean indexing, you can select subsets of an array based on a Boolean condition.\n",
        "\n",
        "For example, given an array a:"
      ],
      "metadata": {
        "id": "FLR1dPPu0P8e"
      }
    },
    {
      "cell_type": "code",
      "source": [
        "import numpy as np\n",
        "\n",
        "a = np.array([[1, 2, 3], [4, 5, 6], [7, 8, 9]])\n"
      ],
      "metadata": {
        "id": "3kc6e5h40K1Y"
      },
      "execution_count": 26,
      "outputs": []
    },
    {
      "cell_type": "code",
      "source": [
        "b = a[a > 5]\n",
        "print(b) \n"
      ],
      "metadata": {
        "colab": {
          "base_uri": "https://localhost:8080/"
        },
        "id": "KB3LYBFm0U9-",
        "outputId": "db113d0b-c5ad-4298-b8d1-d43f11650c7d"
      },
      "execution_count": 27,
      "outputs": [
        {
          "output_type": "stream",
          "name": "stdout",
          "text": [
            "[6 7 8 9]\n"
          ]
        }
      ]
    },
    {
      "cell_type": "markdown",
      "source": [
        "# **Universal Functions**\n",
        "NumPy provides a wide range of universal functions (ufuncs) that operate on arrays element-wise, meaning they apply the same operation to each element of an array.\n",
        "\n",
        "Some examples of ufuncs include:\n",
        "\n",
        "np.sin: computes the sine of each element of an array\n",
        "np.cos: computes the cosine of each element of an array\n",
        "np.exp: computes the exponential of each element of an array\n",
        "np.log: computes the natural logarithm of each element of an array\n",
        "np.sqrt: computes the square root of each element of an array"
      ],
      "metadata": {
        "id": "cQYIM_1v0hkV"
      }
    },
    {
      "cell_type": "code",
      "source": [
        "import numpy as np\n",
        "\n",
        "a = np.array([1, 2, 3, 4, 5])\n"
      ],
      "metadata": {
        "id": "m6Sos9hW0XZW"
      },
      "execution_count": 29,
      "outputs": []
    },
    {
      "cell_type": "code",
      "source": [
        "b = np.sin(a)\n",
        "print(b) \n"
      ],
      "metadata": {
        "colab": {
          "base_uri": "https://localhost:8080/"
        },
        "id": "dFX4wGai0ZfF",
        "outputId": "0502761f-abea-41d6-f426-1c06367a4a06"
      },
      "execution_count": 30,
      "outputs": [
        {
          "output_type": "stream",
          "name": "stdout",
          "text": [
            "[ 0.84147098  0.90929743  0.14112001 -0.7568025  -0.95892427]\n"
          ]
        }
      ]
    },
    {
      "cell_type": "markdown",
      "source": [
        "# **Linear Algebra**\n",
        "NumPy also provides a comprehensive set of functions for linear algebra operations, such as matrix multiplication, matrix inversion, eigenvalue and eigenvector computations, and more.\n",
        "\n",
        "For example, given two arrays a and b:"
      ],
      "metadata": {
        "id": "COU4d9YZ0vTd"
      }
    },
    {
      "cell_type": "code",
      "source": [
        "import numpy as np\n",
        "\n",
        "a = np.array([[1, 2], [3, 4]])\n",
        "b = np.array([[5, 6], [7, 8]])\n"
      ],
      "metadata": {
        "id": "bdCOHmSB0qju"
      },
      "execution_count": 31,
      "outputs": []
    },
    {
      "cell_type": "code",
      "source": [
        "c = np.dot(a, b)\n",
        "print(c) \n"
      ],
      "metadata": {
        "colab": {
          "base_uri": "https://localhost:8080/"
        },
        "id": "GQ0T29WR025A",
        "outputId": "3904372d-5f68-43a8-faaf-9e27c8587a56"
      },
      "execution_count": 33,
      "outputs": [
        {
          "output_type": "stream",
          "name": "stdout",
          "text": [
            "[[19 22]\n",
            " [43 50]]\n"
          ]
        }
      ]
    },
    {
      "cell_type": "markdown",
      "source": [
        "# **NaN and Infinity**\n",
        "NumPy provides special values for representing NaN (not a number) and infinity.\n",
        "\n",
        "To create an array with NaN or infinity values, you can use the np.nan and np.inf functions:"
      ],
      "metadata": {
        "id": "NBXlb41t3d1O"
      }
    },
    {
      "cell_type": "code",
      "source": [
        "import numpy as np\n",
        "\n",
        "a = np.array([1, np.nan, np.inf, -np.inf])\n",
        "print(a) \n"
      ],
      "metadata": {
        "colab": {
          "base_uri": "https://localhost:8080/"
        },
        "id": "SBWgpCas06z2",
        "outputId": "d5df7e49-a721-4dad-ab96-4f4038ca3a88"
      },
      "execution_count": 34,
      "outputs": [
        {
          "output_type": "stream",
          "name": "stdout",
          "text": [
            "[  1.  nan  inf -inf]\n"
          ]
        }
      ]
    },
    {
      "cell_type": "code",
      "source": [
        "print(np.isnan(a))  \n",
        "print(np.isinf(a))  \n"
      ],
      "metadata": {
        "colab": {
          "base_uri": "https://localhost:8080/"
        },
        "id": "ynC9xZ133iSO",
        "outputId": "07344bff-f0bb-41ce-de4d-9addff1f3ddb"
      },
      "execution_count": 35,
      "outputs": [
        {
          "output_type": "stream",
          "name": "stdout",
          "text": [
            "[False  True False False]\n",
            "[False False  True  True]\n"
          ]
        }
      ]
    },
    {
      "cell_type": "markdown",
      "source": [
        "# **Random Numbers**\n",
        "NumPy provides a powerful random number generation module, np.random, which allows you to generate random numbers from a variety of distributions.\n",
        "\n",
        "For example, to generate an array of 10 random numbers from a uniform distribution between 0 and 1, you can use the np.random.rand function:"
      ],
      "metadata": {
        "id": "WC8QUXvc3x2O"
      }
    },
    {
      "cell_type": "code",
      "source": [
        "import numpy as np\n",
        "\n",
        "a = np.random.rand(10)\n",
        "print(a) \n"
      ],
      "metadata": {
        "colab": {
          "base_uri": "https://localhost:8080/"
        },
        "id": "guZs6EuQ3psY",
        "outputId": "8f8287d0-273e-4c85-958a-319e4923254f"
      },
      "execution_count": 37,
      "outputs": [
        {
          "output_type": "stream",
          "name": "stdout",
          "text": [
            "[0.58341615 0.79797636 0.89107516 0.67903156 0.24951567 0.90878216\n",
            " 0.64183231 0.48292122 0.26535763 0.92356892]\n"
          ]
        }
      ]
    },
    {
      "cell_type": "code",
      "source": [
        "b = np.random.randint(10, 30, size=10)\n",
        "print(b) \n"
      ],
      "metadata": {
        "colab": {
          "base_uri": "https://localhost:8080/"
        },
        "id": "fxilE4DC32Y0",
        "outputId": "aae001eb-4cd9-4192-f6dc-07bf4d3cb676"
      },
      "execution_count": 38,
      "outputs": [
        {
          "output_type": "stream",
          "name": "stdout",
          "text": [
            "[11 12 25 16 13 14 17 12 11 27]\n"
          ]
        }
      ]
    },
    {
      "cell_type": "markdown",
      "source": [
        "# **where()**\n",
        "The np.where function allows you to select elements from two arrays based on a Boolean condition.\n",
        "\n",
        "For example, given two arrays a and b:"
      ],
      "metadata": {
        "id": "99FhRBgI4Ena"
      }
    },
    {
      "cell_type": "code",
      "source": [
        "import numpy as np\n",
        "\n",
        "a = np.array([1, 2, 3, 4, 5])\n",
        "b = np.array([10, 20, 30, 40, 50])\n"
      ],
      "metadata": {
        "id": "lZISMHuN3-iQ"
      },
      "execution_count": 39,
      "outputs": []
    },
    {
      "cell_type": "markdown",
      "source": [
        "You can select elements from a where the condition a > 2 is true, and elements from b where the condition a > 2 is false, using the np.where function:"
      ],
      "metadata": {
        "id": "FSxUppbP4Th5"
      }
    },
    {
      "cell_type": "code",
      "source": [
        "c = np.where(a > 2, a, b)\n",
        "print(c) \n"
      ],
      "metadata": {
        "colab": {
          "base_uri": "https://localhost:8080/"
        },
        "id": "A7APxqaa4JVq",
        "outputId": "24d9a483-2081-42ab-f68c-eda871b24ec7"
      },
      "execution_count": 40,
      "outputs": [
        {
          "output_type": "stream",
          "name": "stdout",
          "text": [
            "[10 20  3  4  5]\n"
          ]
        }
      ]
    },
    {
      "cell_type": "markdown",
      "source": [
        "# **all() and any()**\n",
        "The np.all() and np.any() functions allow you to check if all or any elements in an array satisfy a certain condition.\n",
        "\n",
        "For example, to check if all elements in an array are greater than zero:"
      ],
      "metadata": {
        "id": "eMWNtbEm4aLP"
      }
    },
    {
      "cell_type": "code",
      "source": [
        "import numpy as np\n",
        "\n",
        "a = np.array([1, 2, 3, 4, 5])\n",
        "b = np.array([1, -2, 3, 4, -5])\n",
        "\n",
        "print(np.all(a > 0))  # Output: True\n",
        "print(np.all(b > 0))  # Output: False\n"
      ],
      "metadata": {
        "colab": {
          "base_uri": "https://localhost:8080/"
        },
        "id": "po0PcE-k4Uvr",
        "outputId": "0a9c55b6-00a0-4b86-b680-cb685d428085"
      },
      "execution_count": 41,
      "outputs": [
        {
          "output_type": "stream",
          "name": "stdout",
          "text": [
            "True\n",
            "False\n"
          ]
        }
      ]
    },
    {
      "cell_type": "code",
      "source": [
        "print(np.any(a > 0))  # Output: True\n",
        "print(np.any(b > 0))  # Output: True\n"
      ],
      "metadata": {
        "colab": {
          "base_uri": "https://localhost:8080/"
        },
        "id": "vTfnevsF4leJ",
        "outputId": "471076f0-91e0-4085-a932-91117162ec4c"
      },
      "execution_count": 42,
      "outputs": [
        {
          "output_type": "stream",
          "name": "stdout",
          "text": [
            "True\n",
            "True\n"
          ]
        }
      ]
    },
    {
      "cell_type": "markdown",
      "source": [
        "# **Stacking**\n",
        "NumPy provides several functions for stacking arrays vertically or horizontally.\n",
        "\n",
        "For example, to stack two arrays vertically:"
      ],
      "metadata": {
        "id": "lQUzIqIn4udX"
      }
    },
    {
      "cell_type": "code",
      "source": [
        "import numpy as np\n",
        "\n",
        "a = np.array([[1, 2], [3, 4]])\n",
        "b = np.array([[5, 6], [7, 8]])\n",
        "\n",
        "c = np.vstack((a, b))\n",
        "print(c)\n"
      ],
      "metadata": {
        "colab": {
          "base_uri": "https://localhost:8080/"
        },
        "id": "B_q_leVX4oF_",
        "outputId": "2c8e53a1-4d5c-459e-f066-db9749ba2b22"
      },
      "execution_count": 43,
      "outputs": [
        {
          "output_type": "stream",
          "name": "stdout",
          "text": [
            "[[1 2]\n",
            " [3 4]\n",
            " [5 6]\n",
            " [7 8]]\n"
          ]
        }
      ]
    },
    {
      "cell_type": "markdown",
      "source": [
        "# **Sorting**\n",
        "NumPy provides several functions for sorting arrays. Let's take a look at np.sort() and np.argsort().\n",
        "\n",
        "np.sort() can be used to sort an array in ascending order:"
      ],
      "metadata": {
        "id": "q0fzL-Rd5vGo"
      }
    },
    {
      "cell_type": "code",
      "source": [
        "import numpy as np\n",
        "\n",
        "arr = np.array([3, 2, 1, 4, 5])\n",
        "sorted_arr = np.sort(arr)\n",
        "print(sorted_arr)\n"
      ],
      "metadata": {
        "colab": {
          "base_uri": "https://localhost:8080/"
        },
        "id": "-FMe4frx4yBi",
        "outputId": "9404625f-490e-4ba5-ffe3-31bb49fbfa58"
      },
      "execution_count": 44,
      "outputs": [
        {
          "output_type": "stream",
          "name": "stdout",
          "text": [
            "[1 2 3 4 5]\n"
          ]
        }
      ]
    },
    {
      "cell_type": "markdown",
      "source": [
        "np.argsort() can be used to return the indices that would sort the array:"
      ],
      "metadata": {
        "id": "5X5TYTN356PR"
      }
    },
    {
      "cell_type": "code",
      "source": [
        "import numpy as np\n",
        "\n",
        "arr = np.array([3, 2, 1, 4, 5])\n",
        "indices = np.argsort(arr)\n",
        "print(indices)\n"
      ],
      "metadata": {
        "colab": {
          "base_uri": "https://localhost:8080/"
        },
        "id": "TxbJht605ylO",
        "outputId": "ff265c75-4b2c-4ed7-b1ca-c0161b14eced"
      },
      "execution_count": 45,
      "outputs": [
        {
          "output_type": "stream",
          "name": "stdout",
          "text": [
            "[2 1 0 3 4]\n"
          ]
        }
      ]
    },
    {
      "cell_type": "markdown",
      "source": [
        "# **Unique**\n",
        "np.unique() can be used to find the unique elements in an array:"
      ],
      "metadata": {
        "id": "WZhFmDpP6Kc_"
      }
    },
    {
      "cell_type": "code",
      "source": [
        "import numpy as np\n",
        "\n",
        "arr = np.array([1, 2, 3, 2, 1])\n",
        "unique_vals, unique_indices = np.unique(arr, return_index=True)\n",
        "print(unique_vals)\n",
        "print(unique_indices)\n"
      ],
      "metadata": {
        "colab": {
          "base_uri": "https://localhost:8080/"
        },
        "id": "A1PtSKqz6GJM",
        "outputId": "8cbb126b-7e51-405b-a36e-569ede7f92dc"
      },
      "execution_count": 47,
      "outputs": [
        {
          "output_type": "stream",
          "name": "stdout",
          "text": [
            "[1 2 3]\n",
            "[0 1 2]\n"
          ]
        }
      ]
    },
    {
      "cell_type": "markdown",
      "source": [
        "# **Exporting and Importing**\n",
        "NumPy provides several functions for exporting and importing arrays to and from files. Let's take a look at np.save() and np.load().\n",
        "\n",
        "np.save() can be used to save an array to a file:"
      ],
      "metadata": {
        "id": "vFjpKbMD61xT"
      }
    },
    {
      "cell_type": "code",
      "source": [
        "import numpy as np\n",
        "\n",
        "arr = np.array([1, 2, 3])\n",
        "np.save(\"my_array.npy\", arr)\n"
      ],
      "metadata": {
        "id": "KP2NYrhL6nwr"
      },
      "execution_count": 51,
      "outputs": []
    },
    {
      "cell_type": "code",
      "source": [
        "import numpy as np\n",
        "\n",
        "arr = np.load(\"my_array.npy\")\n",
        "print(arr)\n"
      ],
      "metadata": {
        "colab": {
          "base_uri": "https://localhost:8080/"
        },
        "id": "mPUM2LeM68IN",
        "outputId": "21b4ed6f-6177-46c6-8998-66053f1e9577"
      },
      "execution_count": 52,
      "outputs": [
        {
          "output_type": "stream",
          "name": "stdout",
          "text": [
            "[1 2 3]\n"
          ]
        }
      ]
    }
  ]
}